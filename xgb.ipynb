{
 "cells": [
  {
   "cell_type": "code",
   "execution_count": 1,
   "metadata": {
    "collapsed": true
   },
   "outputs": [],
   "source": [
    "import numpy as np\n",
    "import pandas as pd\n",
    "import xgboost as xgb\n",
    "from sklearn.cross_validation import train_test_split\n",
    "from sklearn.metrics import roc_auc_score\n",
    "\n",
    "from util import prepare_train_X_y\n",
    "from util import prepare_test_X"
   ]
  },
  {
   "cell_type": "code",
   "execution_count": 2,
   "metadata": {
    "collapsed": false
   },
   "outputs": [],
   "source": [
    "X_train, y_train = prepare_train_X_y()\n"
   ]
  },
  {
   "cell_type": "code",
   "execution_count": 3,
   "metadata": {
    "collapsed": false
   },
   "outputs": [],
   "source": [
    "clf = xgb.XGBClassifier(missing=np.nan, max_depth=5, n_estimators=350, learning_rate=0.03, nthread=4, subsample=0.95, colsample_bytree=0.85, seed=7171)"
   ]
  },
  {
   "cell_type": "code",
   "execution_count": 4,
   "metadata": {
    "collapsed": false
   },
   "outputs": [],
   "source": [
    "X_fit, X_eval, y_fit, y_eval = train_test_split(X_train, y_train, test_size=0.3)"
   ]
  },
  {
   "cell_type": "code",
   "execution_count": 6,
   "metadata": {
    "collapsed": false
   },
   "outputs": [
    {
     "name": "stderr",
     "output_type": "stream",
     "text": [
      "Will train until validation_0 error hasn't decreased in 20 rounds.\n",
      "[0]\tvalidation_0-auc:0.819530\n",
      "[1]\tvalidation_0-auc:0.775959\n",
      "[2]\tvalidation_0-auc:0.749983\n",
      "[3]\tvalidation_0-auc:0.788741\n",
      "[4]\tvalidation_0-auc:0.770503\n",
      "[5]\tvalidation_0-auc:0.787339\n",
      "[6]\tvalidation_0-auc:0.800370\n",
      "[7]\tvalidation_0-auc:0.802229\n",
      "[8]\tvalidation_0-auc:0.804505\n",
      "[9]\tvalidation_0-auc:0.807070\n",
      "[10]\tvalidation_0-auc:0.808523\n",
      "[11]\tvalidation_0-auc:0.809705\n",
      "[12]\tvalidation_0-auc:0.811748\n",
      "[13]\tvalidation_0-auc:0.812907\n",
      "[14]\tvalidation_0-auc:0.814391\n",
      "[15]\tvalidation_0-auc:0.815474\n",
      "[16]\tvalidation_0-auc:0.812677\n",
      "[17]\tvalidation_0-auc:0.809979\n",
      "[18]\tvalidation_0-auc:0.809849\n",
      "[19]\tvalidation_0-auc:0.810456\n",
      "[20]\tvalidation_0-auc:0.810825\n",
      "Stopping. Best iteration:\n",
      "[0]\tvalidation_0-auc:0.819530\n",
      "\n"
     ]
    },
    {
     "data": {
      "text/plain": [
       "XGBClassifier(base_score=0.5, colsample_bylevel=1, colsample_bytree=0.85,\n",
       "       gamma=0, learning_rate=0.03, max_delta_step=0, max_depth=5,\n",
       "       min_child_weight=1, missing=None, n_estimators=350, nthread=4,\n",
       "       objective='binary:logistic', reg_alpha=0, reg_lambda=1,\n",
       "       scale_pos_weight=1, seed=7171, silent=True, subsample=0.95)"
      ]
     },
     "execution_count": 6,
     "metadata": {},
     "output_type": "execute_result"
    }
   ],
   "source": [
    "clf.fit(X_train, y_train, early_stopping_rounds=20, eval_metric=\"auc\", eval_set=[(X_eval, y_eval)])"
   ]
  },
  {
   "cell_type": "code",
   "execution_count": 7,
   "metadata": {
    "collapsed": false
   },
   "outputs": [
    {
     "name": "stdout",
     "output_type": "stream",
     "text": [
      "Overall AUC: 0.837095684085\n"
     ]
    }
   ],
   "source": [
    "print('Overall AUC:', roc_auc_score(y_train, clf.predict_proba(X_train)[:,1]))"
   ]
  },
  {
   "cell_type": "markdown",
   "metadata": {},
   "source": [
    "#### Making predictions"
   ]
  },
  {
   "cell_type": "code",
   "execution_count": 8,
   "metadata": {
    "collapsed": true
   },
   "outputs": [],
   "source": [
    "test_ids, X_test = prepare_test_X()\n",
    "pred_y = clf.predict_proba(X_test)[:,1]"
   ]
  },
  {
   "cell_type": "code",
   "execution_count": 9,
   "metadata": {
    "collapsed": true
   },
   "outputs": [],
   "source": [
    "!rm submission.csv\n",
    "submission = pd.DataFrame({\"ID\":test_ids, \"TARGET\":pred_y})\n",
    "submission.to_csv(\"submission.csv\", index=False)"
   ]
  },
  {
   "cell_type": "code",
   "execution_count": null,
   "metadata": {
    "collapsed": true
   },
   "outputs": [],
   "source": []
  }
 ],
 "metadata": {
  "kernelspec": {
   "display_name": "Python 3",
   "language": "python",
   "name": "python3"
  },
  "language_info": {
   "codemirror_mode": {
    "name": "ipython",
    "version": 3
   },
   "file_extension": ".py",
   "mimetype": "text/x-python",
   "name": "python",
   "nbconvert_exporter": "python",
   "pygments_lexer": "ipython3",
   "version": "3.4.3"
  }
 },
 "nbformat": 4,
 "nbformat_minor": 0
}
