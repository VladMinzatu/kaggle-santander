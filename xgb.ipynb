{
 "cells": [
  {
   "cell_type": "code",
   "execution_count": 7,
   "metadata": {
    "collapsed": true
   },
   "outputs": [],
   "source": [
    "import numpy as np\n",
    "import pandas as pd\n",
    "import xgboost as xgb\n",
    "from sklearn.cross_validation import train_test_split\n",
    "from sklearn.metrics import roc_auc_score\n",
    "\n",
    "from util import prepare_train_X_y\n",
    "from util import prepare_test_X"
   ]
  },
  {
   "cell_type": "code",
   "execution_count": 8,
   "metadata": {
    "collapsed": false
   },
   "outputs": [],
   "source": [
    "train_X, train_y = prepare_train_X_y()\n"
   ]
  },
  {
   "cell_type": "code",
   "execution_count": 9,
   "metadata": {
    "collapsed": false
   },
   "outputs": [],
   "source": [
    "clf = xgb.XGBClassifier(missing=np.nan, max_depth=5, n_estimators=350, learning_rate=0.03, nthread=4, subsample=0.95, colsample_bytree=0.85, seed=7171)"
   ]
  },
  {
   "cell_type": "code",
   "execution_count": 10,
   "metadata": {
    "collapsed": false
   },
   "outputs": [],
   "source": [
    "fit_X, eval_X, fit_y, eval_y = train_test_split(train_X, train_y, test_size=0.3)"
   ]
  },
  {
   "cell_type": "code",
   "execution_count": 11,
   "metadata": {
    "collapsed": false
   },
   "outputs": [
    {
     "name": "stderr",
     "output_type": "stream",
     "text": [
      "Will train until validation_0 error hasn't decreased in 20 rounds.\n",
      "[0]\tvalidation_0-auc:0.816582\n",
      "[1]\tvalidation_0-auc:0.779287\n",
      "[2]\tvalidation_0-auc:0.755121\n",
      "[3]\tvalidation_0-auc:0.789165\n",
      "[4]\tvalidation_0-auc:0.774244\n",
      "[5]\tvalidation_0-auc:0.788026\n",
      "[6]\tvalidation_0-auc:0.798764\n",
      "[7]\tvalidation_0-auc:0.800394\n",
      "[8]\tvalidation_0-auc:0.803066\n",
      "[9]\tvalidation_0-auc:0.805444\n",
      "[10]\tvalidation_0-auc:0.806470\n",
      "[11]\tvalidation_0-auc:0.807320\n",
      "[12]\tvalidation_0-auc:0.809352\n",
      "[13]\tvalidation_0-auc:0.809517\n",
      "[14]\tvalidation_0-auc:0.810770\n",
      "[15]\tvalidation_0-auc:0.811794\n",
      "[16]\tvalidation_0-auc:0.809407\n",
      "[17]\tvalidation_0-auc:0.806220\n",
      "[18]\tvalidation_0-auc:0.806437\n",
      "[19]\tvalidation_0-auc:0.807251\n",
      "[20]\tvalidation_0-auc:0.807697\n",
      "Stopping. Best iteration:\n",
      "[0]\tvalidation_0-auc:0.816582\n",
      "\n"
     ]
    },
    {
     "data": {
      "text/plain": [
       "XGBClassifier(base_score=0.5, colsample_bylevel=1, colsample_bytree=0.85,\n",
       "       gamma=0, learning_rate=0.03, max_delta_step=0, max_depth=5,\n",
       "       min_child_weight=1, missing=None, n_estimators=350, nthread=4,\n",
       "       objective='binary:logistic', reg_alpha=0, reg_lambda=1,\n",
       "       scale_pos_weight=1, seed=7171, silent=True, subsample=0.95)"
      ]
     },
     "execution_count": 11,
     "metadata": {},
     "output_type": "execute_result"
    }
   ],
   "source": [
    "clf.fit(train_X, train_y, early_stopping_rounds=20, eval_metric=\"auc\", eval_set=[(eval_X, eval_y)])"
   ]
  },
  {
   "cell_type": "code",
   "execution_count": 12,
   "metadata": {
    "collapsed": false
   },
   "outputs": [
    {
     "name": "stdout",
     "output_type": "stream",
     "text": [
      "Overall AUC: 0.837095684085\n"
     ]
    }
   ],
   "source": [
    "print('Overall AUC:', roc_auc_score(train_y, clf.predict_proba(train_X)[:,1]))"
   ]
  },
  {
   "cell_type": "markdown",
   "metadata": {},
   "source": [
    "#### Making predictions"
   ]
  },
  {
   "cell_type": "code",
   "execution_count": 13,
   "metadata": {
    "collapsed": true
   },
   "outputs": [],
   "source": [
    "test_ids, test_X = prepare_test_X()\n",
    "pred_y = clf.predict_proba(test_X)[:,1]"
   ]
  },
  {
   "cell_type": "code",
   "execution_count": 14,
   "metadata": {
    "collapsed": true
   },
   "outputs": [],
   "source": [
    "submission = pd.DataFrame({\"ID\":test_ids, \"TARGET\":pred_y})\n",
    "submission.to_csv(\"submission.csv\", index=False)"
   ]
  },
  {
   "cell_type": "code",
   "execution_count": 16,
   "metadata": {
    "collapsed": false
   },
   "outputs": [
    {
     "name": "stdout",
     "output_type": "stream",
     "text": [
      "ID,TARGET\r\n",
      "2,0.2809791564941406\r\n",
      "5,0.2854905426502228\r\n",
      "6,0.26829150319099426\r\n",
      "7,0.27427324652671814\r\n",
      "9,0.26829150319099426\r\n",
      "11,0.3549484312534332\r\n",
      "12,0.2890394926071167\r\n",
      "15,0.3535606861114502\r\n",
      "16,0.27775314450263977\r\n"
     ]
    }
   ],
   "source": [
    "!head submission.csv"
   ]
  },
  {
   "cell_type": "code",
   "execution_count": null,
   "metadata": {
    "collapsed": true
   },
   "outputs": [],
   "source": []
  }
 ],
 "metadata": {
  "kernelspec": {
   "display_name": "Python 3",
   "language": "python",
   "name": "python3"
  },
  "language_info": {
   "codemirror_mode": {
    "name": "ipython",
    "version": 3
   },
   "file_extension": ".py",
   "mimetype": "text/x-python",
   "name": "python",
   "nbconvert_exporter": "python",
   "pygments_lexer": "ipython3",
   "version": "3.4.3"
  }
 },
 "nbformat": 4,
 "nbformat_minor": 0
}
