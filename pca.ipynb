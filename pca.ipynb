{
 "cells": [
  {
   "cell_type": "code",
   "execution_count": 40,
   "metadata": {
    "collapsed": true
   },
   "outputs": [],
   "source": [
    "import numpy as np\n",
    "import pandas as pd\n",
    "from sklearn.preprocessing import StandardScaler\n",
    "from sklearn.decomposition import PCA\n",
    "from util import prepare_data\n",
    "from matplotlib import pyplot as plt\n",
    "from bisect import bisect_left\n",
    "\n",
    "from sklearn.ensemble import RandomForestClassifier\n",
    "from sklearn.metrics import roc_auc_score\n",
    "from sklearn.cross_validation import train_test_split"
   ]
  },
  {
   "cell_type": "markdown",
   "metadata": {},
   "source": [
    "#### Read in the data"
   ]
  },
  {
   "cell_type": "code",
   "execution_count": 2,
   "metadata": {
    "collapsed": false
   },
   "outputs": [],
   "source": [
    "X_train, y_train, X_test, test_ids = prepare_data()\n",
    "X_train.shape"
   ]
  },
  {
   "cell_type": "markdown",
   "metadata": {},
   "source": [
    "#### Normalize data"
   ]
  },
  {
   "cell_type": "code",
   "execution_count": 17,
   "metadata": {
    "collapsed": false
   },
   "outputs": [],
   "source": [
    "scaler = StandardScaler()\n",
    "X_train_norm = scaler.fit_transform(X_train)\n",
    "X_test_norm = scaler.transform(X_test)"
   ]
  },
  {
   "cell_type": "markdown",
   "metadata": {},
   "source": [
    "#### Find the minimum number of components that explain at least 95% of the variance"
   ]
  },
  {
   "cell_type": "code",
   "execution_count": 46,
   "metadata": {
    "collapsed": false
   },
   "outputs": [
    {
     "name": "stdout",
     "output_type": "stream",
     "text": [
      "99  components are enough\n"
     ]
    }
   ],
   "source": [
    "desired_percentage = 0.95\n",
    "total_comp_count = X_train.shape[1]\n",
    "pca = PCA(n_components=total_comp_count)\n",
    "pca.fit(X_train_norm)\n",
    "\n",
    "pca.explained_variance_ratio_\n",
    "num_comp = bisect_left(np.cumsum(pca.explained_variance_ratio_), desired_percentage)\n",
    "print(num_comp, ' components are enough')"
   ]
  },
  {
   "cell_type": "markdown",
   "metadata": {},
   "source": [
    "#### Fit PCA with the number of components found and transform the train and test sets"
   ]
  },
  {
   "cell_type": "code",
   "execution_count": 47,
   "metadata": {
    "collapsed": false
   },
   "outputs": [],
   "source": [
    "pca = PCA(n_components=num_comp)\n",
    "X_train_projected = pca.fit_transform(X_train_norm)\n",
    "X_test_projected = pca.transform(X_test_norm)"
   ]
  },
  {
   "cell_type": "markdown",
   "metadata": {},
   "source": [
    "#### Train a random fores model"
   ]
  },
  {
   "cell_type": "code",
   "execution_count": 53,
   "metadata": {
    "collapsed": false
   },
   "outputs": [
    {
     "name": "stdout",
     "output_type": "stream",
     "text": [
      "Train AUC: 0.951641687873\n",
      "Test AUC: 0.806287634089\n"
     ]
    }
   ],
   "source": [
    "rfc = RandomForestClassifier(n_estimators=150, max_depth=11, random_state=7171)\n",
    "X_fit, X_eval, y_fit, y_eval = train_test_split(X_train_projected, y_train, test_size=0.3)\n",
    "rfc.fit(X_fit, y_fit)\n",
    "print('Train AUC:', roc_auc_score(y_fit, rfc.predict_proba(X_fit)[:,1]))\n",
    "print('Test AUC:', roc_auc_score(y_eval, rfc.predict_proba(X_eval)[:,1]))"
   ]
  },
  {
   "cell_type": "markdown",
   "metadata": {},
   "source": [
    "#### Make a submission"
   ]
  },
  {
   "cell_type": "code",
   "execution_count": 54,
   "metadata": {
    "collapsed": true
   },
   "outputs": [],
   "source": [
    "rfc.fit(X_train_projected, y_train)\n",
    "pred_y = rfc.predict_proba(X_test_projected)[:,1]\n",
    "\n",
    "!rm submission.csv\n",
    "submission = pd.DataFrame({\"ID\":test_ids, \"TARGET\":pred_y})\n",
    "submission.to_csv(\"submission.csv\", index=False)"
   ]
  },
  {
   "cell_type": "code",
   "execution_count": null,
   "metadata": {
    "collapsed": true
   },
   "outputs": [],
   "source": []
  }
 ],
 "metadata": {
  "kernelspec": {
   "display_name": "Python 3",
   "language": "python",
   "name": "python3"
  },
  "language_info": {
   "codemirror_mode": {
    "name": "ipython",
    "version": 3
   },
   "file_extension": ".py",
   "mimetype": "text/x-python",
   "name": "python",
   "nbconvert_exporter": "python",
   "pygments_lexer": "ipython3",
   "version": "3.4.4"
  }
 },
 "nbformat": 4,
 "nbformat_minor": 0
}
